{
 "cells": [
  {
   "cell_type": "code",
   "execution_count": 1,
   "id": "0cd09cf3",
   "metadata": {},
   "outputs": [],
   "source": [
    "import numpy as np\n",
    "import pandas as pd\n",
    "import matplotlib.pyplot as plt\n",
    "import seaborn as sns\n",
    "import plotly.express as px\n",
    "import plotly.graph_objects as go\n",
    "from dash import Dash, dcc, html\n",
    "from dash.dependencies import Input, Output, State\n",
    "from datetime import date\n",
    "import dash_bootstrap_components as dbc"
   ]
  },
  {
   "cell_type": "code",
   "execution_count": 2,
   "id": "7d90dfab",
   "metadata": {},
   "outputs": [],
   "source": [
    "SIDEBAR_STYLE = {\n",
    "    \"position\":\"fixed\",\n",
    "    \"top\": \"0rem\",\n",
    "    \"left\": \"0rem\",\n",
    "    \"bottom\": \"0rem\",\n",
    "    \"width\": \"18rem\",\n",
    "    \"padding\": \"2rem 1rem\",\n",
    "    \"background-color\": \"#1c3242\",\n",
    "}"
   ]
  },
  {
   "cell_type": "code",
   "execution_count": 3,
   "id": "254a3375",
   "metadata": {},
   "outputs": [],
   "source": [
    "df = pd.read_csv(\"FAOSTAT_data_en_11-20-2022 (1).csv\")"
   ]
  },
  {
   "cell_type": "code",
   "execution_count": 4,
   "id": "32a62f9f",
   "metadata": {},
   "outputs": [
    {
     "name": "stderr",
     "output_type": "stream",
     "text": [
      "C:\\Users\\mosta\\anaconda3\\lib\\site-packages\\pandas\\core\\frame.py:4308: SettingWithCopyWarning: \n",
      "A value is trying to be set on a copy of a slice from a DataFrame\n",
      "\n",
      "See the caveats in the documentation: https://pandas.pydata.org/pandas-docs/stable/user_guide/indexing.html#returning-a-view-versus-a-copy\n",
      "  return super().drop(\n"
     ]
    }
   ],
   "source": [
    "df.drop([\"Item\", \"Item Code\", \"Area Code (M49)\", \"Domain Code\", \"Domain\", \"Flag\", \"Note\", \"Unit\",\"Year Code\", \"Element Code\", \"Flag Description\"], axis = 1, inplace = True)\n",
    "df[\"Value\"] = df[\"Value\"]*1000\n",
    "df[\"Total\"] = df[\"Value\"][df[\"Element\"] == \"Total Population - Both sexes\"]\n",
    "df[\"Males\"] = df[\"Value\"][df[\"Element\"] == \"Total Population - Male\"]\n",
    "df[\"Females\"] = df[\"Value\"][df[\"Element\"] == \"Total Population - Female\"]\n",
    "df[\"Rural\"] = df[\"Value\"][df[\"Element\"] == \"Rural population\"]\n",
    "df[\"Urban\"] = df[\"Value\"][df[\"Element\"] == \"Urban population\"]\n",
    "df[\"Males\"] = df[\"Males\"].shift(-1)\n",
    "df[\"Females\"] = df[\"Females\"].shift(-2)\n",
    "df[\"Rural\"] = df[\"Rural\"].shift(-3)\n",
    "df[\"Urban\"] = df[\"Urban\"].shift(-4)\n",
    "df_mod = df.dropna(axis = 0)\n",
    "df_mod.drop(axis = 1, columns = \"Element\", inplace = True)"
   ]
  },
  {
   "cell_type": "code",
   "execution_count": 5,
   "id": "f1b72b40",
   "metadata": {},
   "outputs": [],
   "source": [
    "df_2 = pd.read_csv(\"API_NY.GDP.MKTP.CD_DS2_en_csv_v2_4701247.csv\")"
   ]
  },
  {
   "cell_type": "code",
   "execution_count": 6,
   "id": "830b8f2a",
   "metadata": {},
   "outputs": [],
   "source": [
    "app = Dash(external_stylesheets = [dbc.themes.SLATE])"
   ]
  },
  {
   "cell_type": "code",
   "execution_count": 7,
   "id": "d25efe9d",
   "metadata": {},
   "outputs": [],
   "source": [
    "navbar = dbc.NavbarSimple(\n",
    "    children=[\n",
    "        dbc.NavItem(dbc.NavLink(\"Page 1\", href=\"#\")),\n",
    "        dbc.NavItem(dbc.NavLink(\"Page 2\", href=\"#\")),\n",
    "    ],\n",
    "    brand=\"My Dashboard\",\n",
    "    brand_href=\"#\",\n",
    "    color=\"primary\",\n",
    "    dark=True,\n",
    "    style = {\"height\": \"3.5rem\"}\n",
    ")"
   ]
  },
  {
   "cell_type": "code",
   "execution_count": 8,
   "id": "4c78f3a1",
   "metadata": {},
   "outputs": [],
   "source": [
    "sidebar = html.Div([\n",
    "                    html.H2(\"Selection Sidebar\", style = {\"textAlign\": \"left\", \"color\": \"white\"}),\n",
    "                    html.Hr(),\n",
    "                    html.H3(\"Select countries\", style = {'marginBottom': '1em', \"fontSize\": 14}),\n",
    "                    html.Div([dcc.Dropdown(df[\"Area\"].unique(), [\"Argentina\"], multi = True, id = \"dropdown-1\")], style = {'marginBottom': '2em', \"fontSize\": 14}),\n",
    "                    html.H3(\"Select category\", style = {'marginBottom': '1em', \"fontSize\": 14}),\n",
    "                    html.Div([dcc.Dropdown([\"Total\", \"Males\", \"Females\", \"Urban\", \"Rural\"], \"Total\", multi = False, id = \"dropdown-2\")], style = {'marginBottom': '2em', \"fontSize\": 14}),\n",
    "                    html.H3(\"Select time range\", style = {'marginBottom': '1em', \"fontSize\": 14}),\n",
    "                    html.Div([dcc.RangeSlider(1950, 2022, 10, marks = {i: f\"{i}\" for i in range(1950, 2022, 10)}, value = [2000, 2010], id='my-range-slider')], style = {'marginBottom': '2em'}),\n",
    "                    #dbc.Row([dbc.Button(\"View Results!\", id = \"my-button\")], justify=\"center\")\n",
    "], style = SIDEBAR_STYLE)"
   ]
  },
  {
   "cell_type": "code",
   "execution_count": 9,
   "id": "ad52708d",
   "metadata": {},
   "outputs": [],
   "source": [
    "df_3 = df_2.set_index(\"Country Name\").T"
   ]
  },
  {
   "cell_type": "code",
   "execution_count": 10,
   "id": "73d66862",
   "metadata": {},
   "outputs": [],
   "source": [
    "app.layout = html.Div([dbc.Container([\n",
    "                       #dbc.Row([navbar]),\n",
    "                       html.Br(),\n",
    "                       dbc.Row([dbc.Col(sidebar, width = 3),dbc.Col(html.H1(\"World Population Dashboard\", style = {\"textAlign\": \"center\", \"color\": \"white\"}), width = 9)]),\n",
    "                       html.Br(),\n",
    "                       html.Br(),   \n",
    "                       dbc.Row([dbc.Col(width = 3),dbc.Col([dcc.Graph(id = \"graph\")], width = 9)]),\n",
    "                       html.Br(),   \n",
    "                       dbc.Row([dbc.Col(width = 3),dbc.Col([dcc.Graph(id = \"graph_4\")], width = 9)]),\n",
    "                       html.Br(),\n",
    "                       dbc.Row([dbc.Col(width = 3), \n",
    "                                dbc.Col([html.Div([dcc.Graph(id = \"graph_2\")], style = {\"display\": \"inline-block\",\"width\": \"42%\", \"float\": \"left\", \"marginLeft\": 2}),\n",
    "                                         html.Div([dcc.Graph(id = \"graph_3\")], style = {\"display\": \"inline-block\",\"width\": \"42%\", \"float\": \"right\", \"marginRight\": 2})], width = 9)\n",
    "                               ]),], fluid = True)],style = {\"backgroundColor\": \"#14232e\", \"marginTop\": 0, \"marginBottom\": 0, \"marginRight\": 0, \"marginLeft\": 0} )"
   ]
  },
  {
   "cell_type": "code",
   "execution_count": 11,
   "id": "654c7a8f",
   "metadata": {},
   "outputs": [],
   "source": [
    "@app.callback(Output(\"graph\", \"figure\"),\n",
    "              [Input(\"dropdown-1\", \"value\"),\n",
    "              Input(\"dropdown-2\", \"value\"),\n",
    "              Input('my-range-slider', \"value\")])\n",
    "\n",
    "def update_graph (dropdown1, dropdown2, rangeslider):   \n",
    "    df_updated = df_mod[[\"Area\", \"Year\", dropdown2]][(df_mod[\"Area\"].isin(dropdown1)) &(df_mod[\"Year\"] > (rangeslider[0]-1)) & (df_mod[\"Year\"] < (rangeslider[1]+1))]\n",
    "    #data =go.scatter(x = df_updated[\"Year\"], y = df_updated[dropdown2])\n",
    "    fig = px.line(df_updated, x = \"Year\", y = dropdown2, color = \"Area\", markers = False, title = \"Population vs Time\", color_discrete_sequence= px.colors.qualitative.Pastel)\n",
    "    #fig = go.Figure(data = data)\n",
    "    fig.update_layout(height = 390, paper_bgcolor = \"#10212e\", plot_bgcolor = \"#10212e\", title_y = 0.98, title_x = 0.5, font = {\"color\": \"white\"}, margin=dict(l=20, r=20, t=30, b=20))\n",
    "    fig.update_xaxes(showgrid = False)\n",
    "    fig.update_yaxes(showgrid = True, gridcolor = \"#1F2A40\")\n",
    "    fig.update_traces(line=dict(width=2))\n",
    "    return fig\n",
    "\n",
    "@app.callback(Output(\"graph_4\", \"figure\"),\n",
    "              [Input(\"dropdown-1\", \"value\"),\n",
    "              Input('my-range-slider', \"value\")])\n",
    "\n",
    "def update_graph_4 (dropdown_1, rangeslider):\n",
    "    df_updated = df_2[df_2[\"Country Name\"].isin(dropdown_1)]\n",
    "    df_updated = df_updated.T\n",
    "    df_updated.columns = df_updated.iloc[0]\n",
    "    df_updated = df_updated.drop(df_updated.index[0], axis = 0)\n",
    "    df_updated.index = df_updated.index.astype(int)\n",
    "    df_updated = df_updated[(df_updated.index > (rangeslider[0]-1)) & (df_updated.index < (rangeslider[1]+1))]\n",
    "    #data =go.scatter(x = df_updated[\"Year\"], y = df_updated[dropdown2])\n",
    "    fig = px.line(df_updated, markers = False, title = \"GDP vs Time\", color_discrete_sequence= px.colors.qualitative.Pastel,labels={'index': 'Year', 'value':'GDP'})\n",
    "    #fig = go.Figure(data = data)\n",
    "    fig.update_layout(height = 390, paper_bgcolor = \"#10212e\", plot_bgcolor = \"#10212e\", title_y = 0.98, title_x = 0.5, font = {\"color\": \"white\"}, margin=dict(l=20, r=20, t=30, b=20))\n",
    "    fig.update_xaxes(showgrid = False)\n",
    "    fig.update_yaxes(showgrid = True, gridcolor = \"#1F2A40\")\n",
    "    fig.update_traces(line=dict(width=2))\n",
    "    return fig\n",
    "\n",
    "\n",
    "@app.callback(Output(\"graph_2\", \"figure\"),\n",
    "              Input(\"dropdown-1\", \"value\"))\n",
    "\n",
    "def update_graph_2(dropdown_1):\n",
    "    df_updated = df_mod[(df_mod[\"Area\"].isin(dropdown_1)) & (df_mod[\"Year\"] == 2021)]\n",
    "    fig = px.bar(df_updated, y = \"Area\", x = [\"Males\", \"Females\"], title = \"Gender Composition\", color_discrete_sequence= px.colors.qualitative.Pastel1)\n",
    "    fig.update_layout(height = 380,paper_bgcolor = \"#10212e\", plot_bgcolor = \"#10212e\", title_y = 0.98, title_x = 0.5, font = {\"color\": \"white\"}, margin=dict(l=20, r=20, t=30, b=20))\n",
    "    fig.update_xaxes(showgrid = False)\n",
    "    fig.update_yaxes(showgrid = False)\n",
    "    return fig\n",
    "\n",
    "\n",
    "@app.callback(Output(\"graph_3\", \"figure\"),\n",
    "              Input(\"dropdown-1\", \"value\"))\n",
    "\n",
    "def update_graph_3(dropdown_1):\n",
    "    df_updated = df_mod[(df_mod[\"Area\"].isin(dropdown_1)) & (df_mod[\"Year\"] == 2021)]\n",
    "    fig = px.bar(df_updated, y = \"Area\", x = [\"Rural\", \"Urban\"], title = \"Location Distribution\", color_discrete_sequence= px.colors.qualitative.Set3)\n",
    "    fig.update_layout(height = 380, paper_bgcolor = \"#10212e\", plot_bgcolor = \"#10212e\", title_y = 0.98, title_x = 0.5, font = {\"color\": \"white\"}, margin=dict(l=20, r=20, t=30, b=20))\n",
    "    fig.update_xaxes(showgrid = False)\n",
    "    fig.update_yaxes(showgrid = False)\n",
    "    return fig"
   ]
  },
  {
   "cell_type": "code",
   "execution_count": null,
   "id": "3b4ef6a7",
   "metadata": {},
   "outputs": [
    {
     "name": "stdout",
     "output_type": "stream",
     "text": [
      "Dash is running on http://127.0.0.1:8050/\n",
      "\n",
      " * Serving Flask app \"__main__\" (lazy loading)\n",
      " * Environment: production\n",
      "   WARNING: This is a development server. Do not use it in a production deployment.\n",
      "   Use a production WSGI server instead.\n",
      " * Debug mode: off\n"
     ]
    },
    {
     "name": "stderr",
     "output_type": "stream",
     "text": [
      " * Running on http://127.0.0.1:8050/ (Press CTRL+C to quit)\n",
      "127.0.0.1 - - [04/Dec/2022 16:02:51] \"\u001b[37mGET / HTTP/1.1\u001b[0m\" 200 -\n",
      "127.0.0.1 - - [04/Dec/2022 16:02:51] \"\u001b[37mGET /_dash-dependencies HTTP/1.1\u001b[0m\" 200 -\n",
      "127.0.0.1 - - [04/Dec/2022 16:02:51] \"\u001b[37mGET /_dash-layout HTTP/1.1\u001b[0m\" 200 -\n",
      "127.0.0.1 - - [04/Dec/2022 16:02:51] \"\u001b[37mGET /_dash-component-suites/dash/dcc/async-dropdown.js HTTP/1.1\u001b[0m\" 200 -\n",
      "127.0.0.1 - - [04/Dec/2022 16:02:51] \"\u001b[37mGET /_dash-component-suites/dash/dcc/async-slider.js HTTP/1.1\u001b[0m\" 200 -\n",
      "127.0.0.1 - - [04/Dec/2022 16:02:51] \"\u001b[37mGET /_dash-component-suites/dash/dcc/async-graph.js HTTP/1.1\u001b[0m\" 200 -\n",
      "127.0.0.1 - - [04/Dec/2022 16:02:51] \"\u001b[37mGET /_dash-component-suites/dash/dcc/async-plotlyjs.js HTTP/1.1\u001b[0m\" 200 -\n",
      "127.0.0.1 - - [04/Dec/2022 16:02:52] \"\u001b[37mPOST /_dash-update-component HTTP/1.1\u001b[0m\" 200 -\n",
      "127.0.0.1 - - [04/Dec/2022 16:02:52] \"\u001b[37mPOST /_dash-update-component HTTP/1.1\u001b[0m\" 200 -\n",
      "127.0.0.1 - - [04/Dec/2022 16:02:52] \"\u001b[37mPOST /_dash-update-component HTTP/1.1\u001b[0m\" 200 -\n",
      "127.0.0.1 - - [04/Dec/2022 16:02:52] \"\u001b[37mPOST /_dash-update-component HTTP/1.1\u001b[0m\" 200 -\n",
      "127.0.0.1 - - [04/Dec/2022 16:02:55] \"\u001b[37mPOST /_dash-update-component HTTP/1.1\u001b[0m\" 200 -\n",
      "127.0.0.1 - - [04/Dec/2022 16:02:55] \"\u001b[37mPOST /_dash-update-component HTTP/1.1\u001b[0m\" 200 -\n",
      "127.0.0.1 - - [04/Dec/2022 16:02:55] \"\u001b[37mPOST /_dash-update-component HTTP/1.1\u001b[0m\" 200 -\n",
      "127.0.0.1 - - [04/Dec/2022 16:02:56] \"\u001b[37mPOST /_dash-update-component HTTP/1.1\u001b[0m\" 200 -\n"
     ]
    }
   ],
   "source": [
    "if __name__ == \"__main__\":\n",
    "    app.run_server(port = 8050)"
   ]
  }
 ],
 "metadata": {
  "kernelspec": {
   "display_name": "Python 3",
   "language": "python",
   "name": "python3"
  },
  "language_info": {
   "codemirror_mode": {
    "name": "ipython",
    "version": 3
   },
   "file_extension": ".py",
   "mimetype": "text/x-python",
   "name": "python",
   "nbconvert_exporter": "python",
   "pygments_lexer": "ipython3",
   "version": "3.8.8"
  }
 },
 "nbformat": 4,
 "nbformat_minor": 5
}
